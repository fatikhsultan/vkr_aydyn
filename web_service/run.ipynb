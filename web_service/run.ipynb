{
 "cells": [
  {
   "cell_type": "code",
   "execution_count": 1,
   "id": "9e3f6e22-23ea-4211-ae0c-940586ed0a5a",
   "metadata": {},
   "outputs": [
    {
     "name": "stderr",
     "output_type": "stream",
     "text": [
      "INFO:     Started server process [21472]\n",
      "INFO:     Waiting for application startup.\n",
      "INFO:     Application startup complete.\n",
      "INFO:     Uvicorn running on http://127.0.0.1:8000 (Press CTRL+C to quit)\n"
     ]
    },
    {
     "name": "stdout",
     "output_type": "stream",
     "text": [
      "INFO:     127.0.0.1:64429 - \"GET / HTTP/1.1\" 200 OK\n",
      "INFO:     127.0.0.1:64430 - \"POST /predict HTTP/1.1\" 200 OK\n"
     ]
    }
   ],
   "source": [
    "import nest_asyncio\n",
    "import uvicorn\n",
    "from main import app  # <- make sure main.py is in the same dir\n",
    "\n",
    "nest_asyncio.apply()\n",
    "\n",
    "config = uvicorn.Config(app=app, host=\"127.0.0.1\", port=8000, log_level=\"info\")\n",
    "server = uvicorn.Server(config)\n",
    "\n",
    "import threading\n",
    "threading.Thread(target=server.run).start()"
   ]
  },
  {
   "cell_type": "code",
   "execution_count": null,
   "id": "74a8d2df-aa79-4dbe-9b7f-454cc2b54151",
   "metadata": {},
   "outputs": [],
   "source": []
  }
 ],
 "metadata": {
  "kernelspec": {
   "display_name": "Python 3 (ipykernel)",
   "language": "python",
   "name": "python3"
  },
  "language_info": {
   "codemirror_mode": {
    "name": "ipython",
    "version": 3
   },
   "file_extension": ".py",
   "mimetype": "text/x-python",
   "name": "python",
   "nbconvert_exporter": "python",
   "pygments_lexer": "ipython3",
   "version": "3.8.10"
  }
 },
 "nbformat": 4,
 "nbformat_minor": 5
}
